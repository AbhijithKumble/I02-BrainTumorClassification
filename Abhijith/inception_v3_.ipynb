{
 "cells": [
  {
   "cell_type": "code",
   "execution_count": 2,
   "metadata": {},
   "outputs": [],
   "source": [
    "import tensorflow as tf\n",
    "from keras.applications import InceptionV3\n",
    "from keras.layers import Dense, GlobalAveragePooling2D\n",
    "from keras.models import Model\n",
    "from keras.preprocessing.image import ImageDataGenerator"
   ]
  },
  {
   "cell_type": "code",
   "execution_count": 3,
   "metadata": {},
   "outputs": [],
   "source": [
    "import cv2 "
   ]
  },
  {
   "cell_type": "code",
   "execution_count": 33,
   "metadata": {},
   "outputs": [],
   "source": [
    "# Set the input image size\n",
    "input_size = (512, 512)"
   ]
  },
  {
   "cell_type": "code",
   "execution_count": 34,
   "metadata": {},
   "outputs": [],
   "source": [
    "\n",
    "# Load the Inception v3 model without the top classification layer\n",
    "base_model = InceptionV3(weights='imagenet', include_top=False, input_shape=(input_size[0], input_size[1], 3))\n"
   ]
  },
  {
   "cell_type": "code",
   "execution_count": 35,
   "metadata": {},
   "outputs": [],
   "source": [
    "# Freeze the pre-trained layers\n",
    "for layer in base_model.layers:\n",
    "    layer.trainable = False\n"
   ]
  },
  {
   "cell_type": "code",
   "execution_count": 36,
   "metadata": {},
   "outputs": [],
   "source": [
    "# Add a new classification layer\n",
    "x = base_model.output\n",
    "x = GlobalAveragePooling2D()(x)\n",
    "x = Dense(1024, activation='relu')(x)\n",
    "predictions = Dense(4, activation='softmax')(x)  # 4 output units for the tumor classes\n"
   ]
  },
  {
   "cell_type": "code",
   "execution_count": 37,
   "metadata": {},
   "outputs": [],
   "source": [
    "# Create the final model\n",
    "model = Model(inputs=base_model.input, outputs=predictions)\n",
    "\n",
    "# Compile the model\n",
    "model.compile(optimizer='adam', loss='categorical_crossentropy', metrics=['accuracy'])"
   ]
  },
  {
   "cell_type": "code",
   "execution_count": 39,
   "metadata": {},
   "outputs": [],
   "source": [
    "\n",
    "# Data augmentation and preprocessing\n",
    "train_datagen = ImageDataGenerator(\n",
    "    rescale=1./255,\n",
    "    rotation_range=20,\n",
    "    width_shift_range=0.2,\n",
    "    height_shift_range=0.2,\n",
    "    horizontal_flip=True,\n",
    ")"
   ]
  },
  {
   "cell_type": "code",
   "execution_count": 40,
   "metadata": {},
   "outputs": [],
   "source": [
    "# Load and convert the images to grayscale before feeding them to the ImageDataGenerator\n",
    "def load_and_convert_image(file_path):\n",
    "    image = cv2.imread(file_path)\n",
    "    image = cv2.cvtColor(image, cv2.COLOR_BGR2GRAY)\n",
    "    image = cv2.resize(image, target_size)\n",
    "    image = image.reshape((*target_size, 1))\n",
    "    return image"
   ]
  },
  {
   "cell_type": "code",
   "execution_count": 41,
   "metadata": {},
   "outputs": [
    {
     "name": "stdout",
     "output_type": "stream",
     "text": [
      "Found 5712 images belonging to 4 classes.\n",
      "Found 1311 images belonging to 4 classes.\n"
     ]
    }
   ],
   "source": [
    "\n",
    "test_datagen = ImageDataGenerator(rescale=1./255)\n",
    " \n",
    "path = 'C:\\\\Users\\\\Abhijith_Kumble\\\\Desktop\\\\IEEE\\\\brain_Tumor_final\\\\brain_tumor'\n",
    "\n",
    "# Set the paths to your training and testing data\n",
    "train_data_dir = path+'\\\\Training'\n",
    "test_data_dir = path + '\\\\Testing'\n",
    "\n",
    "# Set the batch size\n",
    "batch_size = 32\n",
    "\n",
    "# Generate training and testing data\n",
    "train_generator = train_datagen.flow_from_directory(\n",
    "    train_data_dir,\n",
    "    target_size=input_size,\n",
    "    batch_size=batch_size,\n",
    "    class_mode='categorical',\n",
    "    \n",
    "    \n",
    ")\n",
    "\n",
    "test_generator = test_datagen.flow_from_directory(\n",
    "    test_data_dir,\n",
    "    target_size=input_size,\n",
    "    batch_size=batch_size,\n",
    "    class_mode='categorical',\n",
    "    \n",
    ")\n",
    "\n",
    "# Set the number of training and testing samples\n",
    "num_train_samples = train_generator.samples\n",
    "num_test_samples = test_generator.samples\n",
    "\n",
    "# Set the number of training epochs\n",
    "num_epochs = 10\n",
    "\n"
   ]
  },
  {
   "cell_type": "code",
   "execution_count": 42,
   "metadata": {},
   "outputs": [
    {
     "name": "stdout",
     "output_type": "stream",
     "text": [
      "Epoch 1/10\n",
      "178/178 [==============================] - 1148s 6s/step - loss: 0.5721 - accuracy: 0.7866 - val_loss: 0.6913 - val_accuracy: 0.7859\n",
      "Epoch 2/10\n",
      "178/178 [==============================] - 1550s 9s/step - loss: 0.3579 - accuracy: 0.8681 - val_loss: 0.3805 - val_accuracy: 0.8625\n",
      "Epoch 3/10\n",
      "178/178 [==============================] - 1015s 6s/step - loss: 0.3317 - accuracy: 0.8808 - val_loss: 0.4094 - val_accuracy: 0.8383\n",
      "Epoch 4/10\n",
      "178/178 [==============================] - 1007s 6s/step - loss: 0.3209 - accuracy: 0.8843 - val_loss: 0.3349 - val_accuracy: 0.8828\n",
      "Epoch 5/10\n",
      "178/178 [==============================] - 1402s 8s/step - loss: 0.2849 - accuracy: 0.8915 - val_loss: 0.4076 - val_accuracy: 0.8500\n",
      "Epoch 6/10\n",
      "178/178 [==============================] - 1046s 6s/step - loss: 0.2848 - accuracy: 0.8917 - val_loss: 0.3202 - val_accuracy: 0.8742\n",
      "Epoch 7/10\n",
      "178/178 [==============================] - 953s 5s/step - loss: 0.2817 - accuracy: 0.8981 - val_loss: 0.4683 - val_accuracy: 0.8141\n",
      "Epoch 8/10\n",
      "178/178 [==============================] - 1455s 8s/step - loss: 0.2662 - accuracy: 0.8998 - val_loss: 0.2738 - val_accuracy: 0.9000\n",
      "Epoch 9/10\n",
      "178/178 [==============================] - 1144s 6s/step - loss: 0.2372 - accuracy: 0.9120 - val_loss: 0.2613 - val_accuracy: 0.8992\n",
      "Epoch 10/10\n",
      "178/178 [==============================] - 1823s 10s/step - loss: 0.2295 - accuracy: 0.9173 - val_loss: 0.2409 - val_accuracy: 0.9008\n"
     ]
    },
    {
     "data": {
      "text/plain": [
       "<keras.callbacks.History at 0x1e9d8adb610>"
      ]
     },
     "execution_count": 42,
     "metadata": {},
     "output_type": "execute_result"
    }
   ],
   "source": [
    "# Train the model\n",
    "model.fit(\n",
    "    train_generator,\n",
    "    steps_per_epoch=num_train_samples // batch_size,\n",
    "    epochs=num_epochs,\n",
    "    validation_data=test_generator,\n",
    "    validation_steps=num_test_samples // batch_size\n",
    ")"
   ]
  },
  {
   "cell_type": "code",
   "execution_count": 43,
   "metadata": {},
   "outputs": [],
   "source": [
    "model.save('inception_v3.h5')"
   ]
  },
  {
   "cell_type": "code",
   "execution_count": 6,
   "metadata": {},
   "outputs": [],
   "source": [
    "model = tf.keras.models.load_model('inception_v3.h5')"
   ]
  },
  {
   "cell_type": "code",
   "execution_count": 7,
   "metadata": {},
   "outputs": [
    {
     "ename": "NameError",
     "evalue": "name 'test_generator' is not defined",
     "output_type": "error",
     "traceback": [
      "\u001b[1;31m---------------------------------------------------------------------------\u001b[0m",
      "\u001b[1;31mNameError\u001b[0m                                 Traceback (most recent call last)",
      "Cell \u001b[1;32mIn[7], line 1\u001b[0m\n\u001b[1;32m----> 1\u001b[0m model\u001b[39m.\u001b[39mpredict(test_generator)\n",
      "\u001b[1;31mNameError\u001b[0m: name 'test_generator' is not defined"
     ]
    }
   ],
   "source": [
    "model.predict()"
   ]
  }
 ],
 "metadata": {
  "kernelspec": {
   "display_name": "Python 3",
   "language": "python",
   "name": "python3"
  },
  "language_info": {
   "codemirror_mode": {
    "name": "ipython",
    "version": 3
   },
   "file_extension": ".py",
   "mimetype": "text/x-python",
   "name": "python",
   "nbconvert_exporter": "python",
   "pygments_lexer": "ipython3",
   "version": "3.9.9"
  },
  "orig_nbformat": 4
 },
 "nbformat": 4,
 "nbformat_minor": 2
}
